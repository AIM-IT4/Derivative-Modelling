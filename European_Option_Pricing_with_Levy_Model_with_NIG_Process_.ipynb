{
  "nbformat": 4,
  "nbformat_minor": 0,
  "metadata": {
    "colab": {
      "provenance": []
    },
    "kernelspec": {
      "name": "python3",
      "display_name": "Python 3"
    },
    "language_info": {
      "name": "python"
    }
  },
  "cells": [
    {
      "cell_type": "code",
      "source": [
        "import numpy as np\n",
        "\n",
        "def trinomial_call(S, X, r, sigma, T, N):\n",
        "    dt = T / N\n",
        "    u = np.exp(sigma * np.sqrt(2 * dt))\n",
        "    d = 1 / u\n",
        "    p = (np.exp(r * dt / 2) - np.exp(-sigma * np.sqrt(dt / 2))) / (np.exp(sigma * np.sqrt(dt / 2)) - np.exp(-sigma * np.sqrt(dt / 2)))\n",
        "    q = 1 - p\n",
        "\n",
        "    # Initialize the final asset prices at maturity\n",
        "    S_values = [S * u**j * d**(N-j) for j in range(N+1)]\n",
        "\n",
        "    # Initialize the option values at maturity\n",
        "    V_values = [max(S_value - X, 0) for S_value in S_values]\n",
        "\n",
        "    # Calculate the option values at previous time steps\n",
        "    for i in range(N-1, -1, -1):\n",
        "        V_next = V_values.copy()\n",
        "        for j in range(i+1):\n",
        "            V_values[j] = np.exp(-r * dt) * (p * V_next[j+1] + q * V_next[j])\n",
        "\n",
        "    return V_values[0]\n",
        "\n",
        "def binomial_call(S, X, r, sigma, T, N):\n",
        "    dt = T / N\n",
        "    u = np.exp(sigma * np.sqrt(dt))\n",
        "    d = 1 / u\n",
        "    p = (np.exp(r * dt) - d) / (u - d)\n",
        "    q = 1 - p\n",
        "\n",
        "    # Initialize the final asset prices at maturity\n",
        "    S_values = [S * u**j * d**(N-j) for j in range(N+1)]\n",
        "\n",
        "    # Initialize the option values at maturity\n",
        "    V_values = [max(S_value - X, 0) for S_value in S_values]\n",
        "\n",
        "    # Calculate the option values at previous time steps\n",
        "    for i in range(N-1, -1, -1):\n",
        "        V_next = V_values.copy()\n",
        "        for j in range(i+1):\n",
        "            V_values[j] = np.exp(-r * dt) * (p * V_next[j+1] + q * V_next[j])\n",
        "\n",
        "    return V_values[0]\n",
        "\n",
        "# Input parameters\n",
        "S = 100\n",
        "X = 100\n",
        "r = 0.05\n",
        "sigma = 0.2\n",
        "T = 1\n",
        "N_trinomial = 100\n",
        "N_binomial = 20\n",
        "\n",
        "# Evaluate European call option using trinomial model\n",
        "trinomial_price = trinomial_call(S, X, r, sigma, T, N_trinomial)\n",
        "\n",
        "# Evaluate European call option using CRR binomial model\n",
        "binomial_price = binomial_call(S, X, r, sigma, T, N_binomial)\n",
        "\n",
        "# Output results\n",
        "print(\"Trinomial model price:\", trinomial_price)\n",
        "print(\"CRR binomial model price with 20 steps:\", binomial_price)\n"
      ],
      "metadata": {
        "colab": {
          "base_uri": "https://localhost:8080/"
        },
        "id": "g9i3zWaBgvan",
        "outputId": "cbc97ab8-edb3-489d-a323-ad51009755ca"
      },
      "execution_count": 2,
      "outputs": [
        {
          "output_type": "stream",
          "name": "stdout",
          "text": [
            "Trinomial model price: 14.840280089321729\n",
            "CRR binomial model price with 20 steps: 10.351260189053285\n"
          ]
        }
      ]
    },
    {
      "cell_type": "code",
      "source": [
        "import math\n",
        "\n",
        "def boyle_probabilities(T, r, sigma, N, lambd):\n",
        "    dt = T / N\n",
        "    u = math.exp(lambd * sigma * math.sqrt(dt))\n",
        "    d = 1 / u\n",
        "    p_up = ((math.exp(r * dt) - d) / (u - d)) * (1 / lambd**2)\n",
        "    p_down = ((u - math.exp(r * dt)) / (u - d)) * (1 / lambd**2)\n",
        "    p_middle = 1 - (p_up + p_down)\n",
        "    return p_up, p_down, p_middle\n",
        "\n",
        "# Input parameters\n",
        "T = 0.5\n",
        "r = 0.05/250\n",
        "sigma = 0.01\n",
        "N = 5\n",
        "lambd = 1.25\n",
        "\n",
        "# Calculate probabilities using Boyle's model\n",
        "p_up, p_down, p_middle = boyle_probabilities(T, r, sigma, N, lambd)\n",
        "\n",
        "# Compare probabilities to 1/3\n",
        "expected_probability = 1/3\n",
        "\n",
        "# Output results\n",
        "print(\"Probability of moving up:\", p_up)\n",
        "print(\"Probability of moving down:\", p_down)\n",
        "print(\"Probability of staying in the middle:\", p_middle)\n",
        "print(\"Expected probability (1/3):\", expected_probability)\n"
      ],
      "metadata": {
        "colab": {
          "base_uri": "https://localhost:8080/"
        },
        "id": "eraO7e4jh3jf",
        "outputId": "51f32ad5-c97e-4bd7-9802-24a7f451849b"
      },
      "execution_count": 3,
      "outputs": [
        {
          "output_type": "stream",
          "name": "stdout",
          "text": [
            "Probability of moving up: 0.32098664342804145\n",
            "Probability of moving down: 0.31901335657195856\n",
            "Probability of staying in the middle: 0.36\n",
            "Expected probability (1/3): 0.3333333333333333\n"
          ]
        }
      ]
    },
    {
      "cell_type": "code",
      "source": [
        "import numpy as np\n",
        "from scipy.stats import norm\n",
        "\n",
        "def levy_call_price(S, K, r, T, alpha, beta, delta, gamma):\n",
        "    # S: Current stock price\n",
        "    # K: Strike price\n",
        "    # r: Risk-free interest rate\n",
        "    # T: Time to expiration\n",
        "    # alpha, beta, delta, gamma: Parameters of NIG process\n",
        "\n",
        "    # Calculate the parameters of the NIG distribution\n",
        "    lambda_ = np.sqrt(alpha**2 - beta**2)\n",
        "    mu = r - delta - gamma * lambda_\n",
        "\n",
        "    # Calculate the characteristic exponent of the NIG process\n",
        "    def psi(u):\n",
        "        return -delta * u - gamma * np.sqrt(alpha**2 - (beta + u * 1j)**2)\n",
        "\n",
        "    # Define the risk-neutral characteristic function\n",
        "    def phi(u):\n",
        "        return np.exp(T * psi(u * 1j)) * np.exp(1j * u * np.log(S))\n",
        "\n",
        "    # Calculate the call option price using the Fourier inversion formula\n",
        "    def inversion_formula(w):\n",
        "        integrand = np.exp(-1j * w * np.log(K)) * phi(w - 1j) / (w**2 + 1)\n",
        "        return np.real(integrand)\n",
        "\n",
        "    integral = np.trapz([inversion_formula(w) for w in np.linspace(0, 100, 1000)])\n",
        "    call_price = S * np.exp(-r * T) / np.pi + integral / np.pi\n",
        "\n",
        "    return call_price\n",
        "\n",
        "# Example usage\n",
        "S = 400  # Current stock price\n",
        "K = 1510  # Strike price\n",
        "r = 0.05  # Risk-free interest rate\n",
        "T = 1  # Time to expiration\n",
        "alpha = 2  # Levy process parameter\n",
        "beta = 1  # Levy process parameter\n",
        "delta = 0  # Levy process parameter\n",
        "gamma = 1  # Levy process parameter\n",
        "\n",
        "option_price = levy_call_price(S, K, r, T, alpha, beta, delta, gamma)\n",
        "print(\"Option Price:\", option_price)\n"
      ],
      "metadata": {
        "colab": {
          "base_uri": "https://localhost:8080/"
        },
        "id": "9V-N9k8zKN1B",
        "outputId": "9725cdd3-081c-4807-f3ba-f00289f20e5b"
      },
      "execution_count": 6,
      "outputs": [
        {
          "output_type": "stream",
          "name": "stdout",
          "text": [
            "Option Price: 193.5513921472742\n"
          ]
        }
      ]
    }
  ]
}