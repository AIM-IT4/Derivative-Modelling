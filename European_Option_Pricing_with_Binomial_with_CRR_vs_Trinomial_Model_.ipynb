{
  "nbformat": 4,
  "nbformat_minor": 0,
  "metadata": {
    "colab": {
      "provenance": []
    },
    "kernelspec": {
      "name": "python3",
      "display_name": "Python 3"
    },
    "language_info": {
      "name": "python"
    }
  },
  "cells": [
    {
      "cell_type": "code",
      "source": [
        "import numpy as np\n",
        "\n",
        "def trinomial_call(S, X, r, sigma, T, N):\n",
        "    dt = T / N\n",
        "    u = np.exp(sigma * np.sqrt(2 * dt))\n",
        "    d = 1 / u\n",
        "    p = (np.exp(r * dt / 2) - np.exp(-sigma * np.sqrt(dt / 2))) / (np.exp(sigma * np.sqrt(dt / 2)) - np.exp(-sigma * np.sqrt(dt / 2)))\n",
        "    q = 1 - p\n",
        "\n",
        "    # Initialize the final asset prices at maturity\n",
        "    S_values = [S * u**j * d**(N-j) for j in range(N+1)]\n",
        "\n",
        "    # Initialize the option values at maturity\n",
        "    V_values = [max(S_value - X, 0) for S_value in S_values]\n",
        "\n",
        "    # Calculate the option values at previous time steps\n",
        "    for i in range(N-1, -1, -1):\n",
        "        V_next = V_values.copy()\n",
        "        for j in range(i+1):\n",
        "            V_values[j] = np.exp(-r * dt) * (p * V_next[j+1] + q * V_next[j])\n",
        "\n",
        "    return V_values[0]\n",
        "\n",
        "def binomial_call(S, X, r, sigma, T, N):\n",
        "    dt = T / N\n",
        "    u = np.exp(sigma * np.sqrt(dt))\n",
        "    d = 1 / u\n",
        "    p = (np.exp(r * dt) - d) / (u - d)\n",
        "    q = 1 - p\n",
        "\n",
        "    # Initialize the final asset prices at maturity\n",
        "    S_values = [S * u**j * d**(N-j) for j in range(N+1)]\n",
        "\n",
        "    # Initialize the option values at maturity\n",
        "    V_values = [max(S_value - X, 0) for S_value in S_values]\n",
        "\n",
        "    # Calculate the option values at previous time steps\n",
        "    for i in range(N-1, -1, -1):\n",
        "        V_next = V_values.copy()\n",
        "        for j in range(i+1):\n",
        "            V_values[j] = np.exp(-r * dt) * (p * V_next[j+1] + q * V_next[j])\n",
        "\n",
        "    return V_values[0]\n",
        "\n",
        "# Input parameters\n",
        "S = 100\n",
        "X = 100\n",
        "r = 0.05\n",
        "sigma = 0.2\n",
        "T = 1\n",
        "N_trinomial = 100\n",
        "N_binomial = 20\n",
        "\n",
        "# Evaluate European call option using trinomial model\n",
        "trinomial_price = trinomial_call(S, X, r, sigma, T, N_trinomial)\n",
        "\n",
        "# Evaluate European call option using CRR binomial model\n",
        "binomial_price = binomial_call(S, X, r, sigma, T, N_binomial)\n",
        "\n",
        "# Output results\n",
        "print(\"Trinomial model price:\", trinomial_price)\n",
        "print(\"CRR binomial model price with 20 steps:\", binomial_price)\n"
      ],
      "metadata": {
        "colab": {
          "base_uri": "https://localhost:8080/"
        },
        "id": "g9i3zWaBgvan",
        "outputId": "cbc97ab8-edb3-489d-a323-ad51009755ca"
      },
      "execution_count": 2,
      "outputs": [
        {
          "output_type": "stream",
          "name": "stdout",
          "text": [
            "Trinomial model price: 14.840280089321729\n",
            "CRR binomial model price with 20 steps: 10.351260189053285\n"
          ]
        }
      ]
    }
  ]
}