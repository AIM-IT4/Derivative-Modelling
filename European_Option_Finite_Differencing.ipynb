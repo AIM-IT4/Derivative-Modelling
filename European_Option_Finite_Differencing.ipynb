{
  "cells": [
    {
      "cell_type": "markdown",
      "source": [
        "Great, I've created a new Jupyter notebook named \"European_Option_Finite_Differencing.ipynb\". You can access it here.\n",
        "\n",
        "Now, let's start by importing the necessary libraries and defining the parameters for our option. We'll need the following parameters:\n",
        "\n",
        "Stock price (S)\n",
        "Strike price (K)\n",
        "Risk-free rate (r)\n",
        "Volatility (sigma)\n",
        "Time to maturity (T)\n",
        "Let's assume the following values:\n",
        "\n",
        "S = 50\n",
        "K = 100\n",
        "r = 0.05\n",
        "sigma = 0.25\n",
        "T = 1\n",
        "We'll also need to define the grid parameters for our finite difference method:\n",
        "\n",
        "Number of time steps (M)\n",
        "Number of price steps (N)\n",
        "Let's assume M = 100 and N = 100 for now.\n",
        "\n",
        "Let's create a cell to define these parameters."
      ],
      "metadata": {
        "noteable": {
          "cell_type": "markdown"
        }
      },
      "id": "43f7f1d4-a5dc-497b-b4ef-29e24be6a183"
    },
    {
      "cell_type": "code",
      "source": [
        "# Import necessary libraries\n",
        "import numpy as np\n",
        "import matplotlib.pyplot as plt\n",
        "from scipy.linalg import solve\n",
        "\n",
        "# Parameters\n",
        "S = 50  # Stock price\n",
        "K = 100  # Strike price\n",
        "r = 0.05  # Risk-free rate\n",
        "sigma = 0.25  # Volatility\n",
        "T = 1  # Time to maturity\n",
        "\n",
        "# Grid parameters\n",
        "M = 100  # Number of time steps\n",
        "N = 100  # Number of price steps\n",
        "\n",
        "# Grid spacing\n",
        "dt = T / M  # Time step\n",
        "dS = 2 * S / N  # Price step\n",
        "\n",
        "# Grid\n",
        "t = np.linspace(0, T, M+1)  # Time grid\n",
        "S_grid = np.linspace(0, 2*S, N+1)  # Price grid"
      ],
      "outputs": [],
      "execution_count": null,
      "metadata": {
        "jupyter": {
          "source_hidden": false,
          "outputs_hidden": false
        },
        "noteable": {
          "cell_type": "code"
        },
        "ExecuteTime": {
          "start_time": "2023-06-02T02:48:44.203717+00:00",
          "end_time": "2023-06-02T02:48:46.024966+00:00"
        }
      },
      "id": "adda7e91-019b-4a57-a8fa-996c2cf489b1"
    },
    {
      "cell_type": "markdown",
      "source": [
        "Next, we'll need to define the payoff of the European option at maturity, which is max(K - S, 0) for a put option and max(S - K, 0) for a call option. We'll also need to set up the boundary conditions for the finite difference method. For a put option, the value of the option is K when S = 0 and 0 when S is large. For a call option, the value of the option is 0 when S = 0 and S - K when S is large.\n",
        "\n",
        "Let's assume we're dealing with a put option for now. We'll create a cell to define the payoff and boundary conditions."
      ],
      "metadata": {
        "noteable": {
          "cell_type": "markdown"
        }
      },
      "id": "fd44b5e0-3df5-4534-876d-896bccc2934a"
    },
    {
      "cell_type": "code",
      "source": [
        "# Payoff at maturity (put option)\n",
        "V = np.maximum(K - S_grid, 0)\n",
        "\n",
        "# Boundary conditions\n",
        "V_low = K * np.exp(-r * (T - t))  # Value of the option when S = 0\n",
        "V_high = np.zeros_like(t)  # Value of the option when S is large"
      ],
      "outputs": [],
      "execution_count": null,
      "metadata": {
        "jupyter": {
          "source_hidden": false,
          "outputs_hidden": false
        },
        "noteable": {
          "cell_type": "code"
        },
        "ExecuteTime": {
          "start_time": "2023-06-02T02:48:56.510783+00:00",
          "end_time": "2023-06-02T02:48:56.668718+00:00"
        }
      },
      "id": "2d7dd310-0c45-4f09-8832-5efb92c4c8ee"
    },
    {
      "cell_type": "markdown",
      "source": [
        "The cell to define the payoff at maturity and boundary conditions for the put option has been created and run successfully.\n",
        "\n",
        "Next, we'll implement the finite difference method to calculate the value of the option at each point in the grid. We'll use the Crank-Nicolson method, which is a combination of the explicit and implicit methods and has the advantage of being unconditionally stable while still being accurate.\n",
        "\n",
        "The Crank-Nicolson method involves solving a system of linear equations at each time step, so we'll need to set up the matrix for this system. Let's create a cell to do this."
      ],
      "metadata": {
        "noteable": {
          "cell_type": "markdown"
        }
      },
      "id": "b47271e3-5fc5-4df9-a37e-63ddc25cfee2"
    },
    {
      "cell_type": "code",
      "source": [
        "# Matrix setup\n",
        "A = np.zeros((N-1, N-1))\n",
        "B = np.zeros((N-1, N-1))\n",
        "\n",
        "for i in range(N-1):\n",
        "    # Diagonal elements\n",
        "    A[i, i] = 1 + dt * (sigma**2 * (i+1)**2 + r)\n",
        "    B[i, i] = 1 - dt * (sigma**2 * (i+1)**2 + r)\n",
        "\n",
        "    # Off-diagonal elements\n",
        "    if i != 0:\n",
        "        A[i, i-1] = -0.5 * dt * (sigma**2 * (i+1)**2 - r * (i+1))\n",
        "        B[i, i-1] = 0.5 * dt * (sigma**2 * (i+1)**2 - r * (i+1))\n",
        "    if i != N-2:\n",
        "        A[i, i+1] = -0.5 * dt * (sigma**2 * (i+1)**2 + r * (i+1))\n",
        "        B[i, i+1] = 0.5 * dt * (sigma**2 * (i+1)**2 + r * (i+1))"
      ],
      "outputs": [],
      "execution_count": null,
      "metadata": {
        "jupyter": {
          "source_hidden": false,
          "outputs_hidden": false
        },
        "noteable": {
          "cell_type": "code"
        },
        "ExecuteTime": {
          "start_time": "2023-06-02T02:49:46.205303+00:00",
          "end_time": "2023-06-02T02:49:46.366895+00:00"
        }
      },
      "id": "d602f324-c706-41e5-98fe-823a880e3322"
    },
    {
      "cell_type": "markdown",
      "source": [
        "The cell to set up the matrix for the Crank-Nicolson method has been created and run successfully.\n",
        "\n",
        "Now, we'll implement the finite difference method itself. We'll iterate backwards in time, at each step solving the system of linear equations to find the value of the option at that time step. Let's create a cell to do this."
      ],
      "metadata": {
        "noteable": {
          "cell_type": "markdown"
        }
      },
      "id": "3edaa56b-b1e4-480a-a40d-0a9bb487141c"
    },
    {
      "cell_type": "code",
      "source": [
        "# Finite difference method\n",
        "for j in range(M, 0, -1):\n",
        "    # Right-hand side of the system\n",
        "    Bv = B @ V[1:-1]\n",
        "    Bv[0] += 0.5 * dt * (sigma**2 - r) * V_low[j-1] + 0.5 * dt * (sigma**2 - r) * V_low[j]\n",
        "    Bv[-1] += 0.5 * dt * (sigma**2 * N + r * N) * V_high[j-1] + 0.5 * dt * (sigma**2 * N + r * N) * V_high[j]\n",
        "\n",
        "    # Solve the system\n",
        "    V[1:-1] = solve(A, Bv)\n",
        "\n",
        "    # Boundary conditions\n",
        "    V[0] = V_low[j-1]\n",
        "    V[-1] = V_high[j-1]"
      ],
      "outputs": [],
      "execution_count": null,
      "metadata": {
        "jupyter": {
          "source_hidden": false,
          "outputs_hidden": false
        },
        "noteable": {
          "cell_type": "code"
        },
        "ExecuteTime": {
          "start_time": "2023-06-02T02:50:18.426315+00:00",
          "end_time": "2023-06-02T02:50:20.060962+00:00"
        }
      },
      "id": "098a38bc-4115-4eb7-8797-5d6f6e090c35"
    },
    {
      "cell_type": "markdown",
      "source": [
        "The cell to implement the finite difference method has been created and run successfully.\n",
        "\n",
        "Finally, let's plot the value of the option as a function of the stock price at each time step. This will give us a visual representation of how the value of the option evolves over time. Let's create a cell to do this."
      ],
      "metadata": {
        "noteable": {
          "cell_type": "markdown"
        }
      },
      "id": "18feb34a-5034-42e2-a522-d88af65e5bbd"
    },
    {
      "cell_type": "code",
      "source": [
        "# Plot\n",
        "plt.figure(figsize=(10, 6))\n",
        "plt.plot(S_grid, V)\n",
        "plt.xlabel('Stock Price')\n",
        "plt.ylabel('Option Value')\n",
        "plt.title('European Put Option Value by Finite Difference Method')\n",
        "plt.grid(True)\n",
        "plt.show()"
      ],
      "outputs": [
        {
          "output_type": "display_data",
          "data": {
            "image/png": "[encoded data removed]"
          },
          "metadata": {}
        }
      ],
      "execution_count": null,
      "metadata": {
        "jupyter": {
          "source_hidden": false,
          "outputs_hidden": false
        },
        "noteable": {
          "cell_type": "code"
        },
        "ExecuteTime": {
          "start_time": "2023-06-02T02:50:57.409688+00:00",
          "end_time": "2023-06-02T02:50:57.866824+00:00"
        }
      },
      "id": "68e34247-94e5-4354-9d42-9aa2afee65ca"
    }
  ],
  "metadata": {
    "noteable-chatgpt": {
      "create_notebook": {
        "openai_conversation_id": "79845938-3316-5fee-9501-4933e35e83e5",
        "openai_ephemeral_user_id": "69a71f92-a170-55ba-95bf-ef5b34f27ae1",
        "openai_subdivision1_iso_code": "IN-MH"
      }
    },
    "noteable": {
      "last_delta_id": "a91ad272-b736-4c48-afff-9a3b96f0e6c2"
    },
    "selected_hardware_size": "small",
    "nteract": {
      "version": "noteable@2.9.0"
    }
  },
  "nbformat": 4,
  "nbformat_minor": 5
}