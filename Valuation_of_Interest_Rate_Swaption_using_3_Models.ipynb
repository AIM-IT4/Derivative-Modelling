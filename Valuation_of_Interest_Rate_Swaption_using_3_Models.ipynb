{
  "nbformat": 4,
  "nbformat_minor": 0,
  "metadata": {
    "colab": {
      "provenance": []
    },
    "kernelspec": {
      "name": "python3",
      "display_name": "Python 3"
    },
    "language_info": {
      "name": "python"
    }
  },
  "cells": [
    {
      "cell_type": "code",
      "source": [
        "import math\n",
        "import random \n",
        "# Black-Scholes model for valuing a swaption\n",
        "def black_scholes_swaption(principal, strike, volatility, expiration, risk_free_rate, option_type):\n",
        "    d1 = (math.log(principal / strike) + (risk_free_rate + 0.5 * volatility**2) * expiration) / (volatility * math.sqrt(expiration))\n",
        "    d2 = d1 - volatility * math.sqrt(expiration)\n",
        "    \n",
        "    if option_type == 'Call':\n",
        "        return principal * (norm_cdf(d1) - strike * math.exp(-risk_free_rate * expiration) * norm_cdf(d2))\n",
        "    elif option_type == 'Put':\n",
        "        return principal * (strike * math.exp(-risk_free_rate * expiration) * norm_cdf(-d2) - norm_cdf(-d1))\n",
        "    else:\n",
        "        raise ValueError(\"Invalid option type\")\n",
        "\n",
        "# Hull-White model for valuing a swaption\n",
        "def hull_white_swaption(principal, strike, volatility, expiration, risk_free_rate, mean_reversion, option_type):\n",
        "    a = (1 - math.exp(-mean_reversion * expiration)) / mean_reversion\n",
        "    d1 = (math.log(principal / strike) + 0.5 * (volatility**2 / mean_reversion**2) * (1 - math.exp(-2 * mean_reversion * expiration))) / (volatility / mean_reversion * math.sqrt(1 - math.exp(-2 * mean_reversion * expiration)))\n",
        "    d2 = d1 - volatility / mean_reversion * math.sqrt(1 - math.exp(-2 * mean_reversion * expiration))\n",
        "    \n",
        "    if option_type == 'Call':\n",
        "        return principal * (norm_cdf(d1) - strike * math.exp(-risk_free_rate * expiration) * norm_cdf(d2))\n",
        "    elif option_type == 'Put':\n",
        "        return principal * (strike * math.exp(-risk_free_rate * expiration) * norm_cdf(-d2) - norm_cdf(-d1))\n",
        "    else:\n",
        "        raise ValueError(\"Invalid option type\")\n",
        "\n",
        "# Heston model for valuing a swaption\n",
        "def heston_swaption(principal, strike, expiration, risk_free_rate, kappa, theta, sigma, rho, v0, option_type, num_steps=1000, num_paths=1000):\n",
        "    dt = expiration / num_steps\n",
        "    sqrt_dt = math.sqrt(dt)\n",
        "    num_iterations = int(expiration * num_steps)\n",
        "    \n",
        "    option_value = 0\n",
        "    \n",
        "    for _ in range(num_paths):\n",
        "        vt = v0\n",
        "        st = principal\n",
        "        \n",
        "        for _ in range(num_iterations):\n",
        "            z1 = random.gauss(0, 1)\n",
        "            z2 = random.gauss(0, 1)\n",
        "            \n",
        "            dz1 = z1 * sqrt_dt\n",
        "            dz2 = rho * z1 * sqrt_dt + math.sqrt(1 - rho**2) * z2 * sqrt_dt\n",
        "            \n",
        "            vt = max(vt + kappa * (theta - vt) * dt + sigma * math.sqrt(vt) * dz2, 0)\n",
        "            st *= math.exp((risk_free_rate - 0.5 * vt) * dt + math.sqrt(vt) * dz1)\n",
        "        \n",
        "        if option_type == 'Call':\n",
        "            option_value += max(st - strike, 0)\n",
        "        elif option_type == 'Put':\n",
        "            option_value += max(strike - st, 0)\n",
        "        else:\n",
        "            raise ValueError(\"Invalid option type\")\n",
        "    \n",
        "    option_value /= num_paths\n",
        "    option_value *= math.exp(-risk_free_rate * expiration)\n",
        "    \n",
        "    return option_value\n",
        "\n",
        "# Helper function for calculating the cumulative distribution function (CDF) of the standard normal distribution\n",
        "def norm_cdf(x):\n",
        "    return (1 + math.erf(x / math.sqrt(2))) / 2\n",
        "\n",
        "# Example usage\n",
        "principal = 1000000  # Principal amount\n",
        "strike = 0.05  # Strike rate\n",
        "volatility = 0.2  # Volatility\n",
        "expiration = 1.0  # Time to expiration (in years)\n",
        "risk_free_rate = 0.03  # Risk-free interest rate\n",
        "mean_reversion = 0.1  # Mean reversion parameter (for Hull-White model)\n",
        "kappa = 2.0  # Mean reversion parameter (for Heston model)\n",
        "theta = 0.05  # Long-run variance (for Heston model)\n",
        "sigma = 0.2  # Volatility of volatility (for Heston model)\n",
        "rho = -0.5  # Correlation between the asset price and volatility (for Heston model)\n",
        "v0 = 0.05  # Initial variance (for Heston model)\n",
        "\n",
        "option_type = 'Call'  # Option type: 'Call' or 'Put'\n",
        "\n",
        "# Valuation using Black-Scholes model\n",
        "bs_value = black_scholes_swaption(principal, strike, volatility, expiration, risk_free_rate, option_type)\n",
        "print(\"Black-Scholes value:\", bs_value)\n",
        "\n",
        "# Valuation using Hull-White model\n",
        "hw_value = hull_white_swaption(principal, strike, volatility, expiration, risk_free_rate, mean_reversion, option_type)\n",
        "print(\"Hull-White value:\", hw_value)\n",
        "\n",
        "# Valuation using Heston model\n",
        "heston_value = heston_swaption(principal, strike, expiration, risk_free_rate, kappa, theta, sigma, rho, v0, option_type)\n",
        "print(\"Heston value:\", heston_value)\n"
      ],
      "metadata": {
        "colab": {
          "base_uri": "https://localhost:8080/"
        },
        "id": "iSiYf2lrJaCp",
        "outputId": "c9c89038-c607-4636-c11a-77bc9086b60c"
      },
      "execution_count": 40,
      "outputs": [
        {
          "output_type": "stream",
          "name": "stdout",
          "text": [
            "Black-Scholes value: 951477.7233225746\n",
            "Hull-White value: 951477.7233225746\n",
            "Heston value: 955117.8185092519\n"
          ]
        }
      ]
    }
  ]
}